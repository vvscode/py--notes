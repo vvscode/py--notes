{
 "cells": [
  {
   "cell_type": "markdown",
   "metadata": {},
   "source": [
    "Реализуйте программу, которая принимает последовательность чисел и выводит их сумму.\n",
    "\n",
    "Вашей программе на вход подается последовательность строк.\n",
    "Первая строка содержит число n (1 ≤ n ≤ 100).\n",
    "В следующих n строках содержится по одному целому числу.\n",
    "\n",
    "Выведите одно число – сумму данных n чисел.\n",
    "\n",
    "Примечание:\n",
    "﻿Чтобы считать одно число из стандартного потока ввода, можно использовать, например, следующий код\n",
    "\n",
    "n = int(input())\n",
    "Sample Input 1:\n",
    "\n",
    "2\n",
    "2\n",
    "3\n",
    "Sample Output 1:\n",
    "\n",
    "5\n",
    "Sample Input 2:\n",
    "\n",
    "2\n",
    "-2\n",
    "-2\n",
    "Sample Output 2:\n",
    "\n",
    "-4\n",
    "Sample Input 3:\n",
    "\n",
    "1\n",
    "31\n",
    "Sample Output 3:\n",
    "\n",
    "31"
   ]
  },
  {
   "cell_type": "code",
   "execution_count": null,
   "metadata": {},
   "outputs": [],
   "source": [
    "print(sum(int(input()) for i in range(0, int(input()))))"
   ]
  }
 ],
 "metadata": {
  "kernelspec": {
   "display_name": "Python 3",
   "language": "python",
   "name": "python3"
  },
  "language_info": {
   "codemirror_mode": {
    "name": "ipython",
    "version": 3
   },
   "file_extension": ".py",
   "mimetype": "text/x-python",
   "name": "python",
   "nbconvert_exporter": "python",
   "pygments_lexer": "ipython3",
   "version": "3.7.0"
  }
 },
 "nbformat": 4,
 "nbformat_minor": 2
}
