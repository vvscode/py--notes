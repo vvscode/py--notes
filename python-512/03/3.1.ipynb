{
 "cells": [
  {
   "cell_type": "markdown",
   "metadata": {},
   "source": [
    "Вашей программе на вход подаются три строки s, a, b, состоящие из строчных латинских букв.\n",
    "За одну операцию вы можете заменить все вхождения строки a в строку s на строку b.\n",
    "\n",
    "Например, s = \"abab\", a = \"ab\", b = \"ba\", тогда после выполнения одной операции строка s перейдет в строку \"baba\", после выполнения двух и операций – в строку \"bbaa\", и дальнейшие операции не будут изменять строку s.\n",
    "\n",
    "Необходимо узнать, после какого минимального количества операций в строке s не останется вхождений строки a. Если операций потребуется более 1000, выведите Impossible.\n",
    "\n",
    "Выведите одно число – минимальное число операций, после применения которых в строке s не останется вхождений строки a, или Impossible, если операций потребуется более 1000.\n",
    "\n",
    "Условие задачи было изменено 12.09.2018\n",
    "Sample Input 1:\n",
    "\n",
    "ababa\n",
    "a\n",
    "b\n",
    "Sample Output 1:\n",
    "\n",
    "1\n",
    "Sample Input 2:\n",
    "\n",
    "ababa\n",
    "b\n",
    "a\n",
    "Sample Output 2:\n",
    "\n",
    "1\n",
    "Sample Input 3:\n",
    "\n",
    "ababa\n",
    "c\n",
    "c\n",
    "Sample Output 3:\n",
    "\n",
    "0\n",
    "Sample Input 4:\n",
    "\n",
    "ababac\n",
    "c\n",
    "c\n",
    "Sample Output 4:\n",
    "\n",
    "Impossible"
   ]
  },
  {
   "cell_type": "code",
   "execution_count": 2,
   "metadata": {},
   "outputs": [
    {
     "name": "stdout",
     "output_type": "stream",
     "text": [
      "ababa\n",
      "b\n",
      "a\n",
      "1\n"
     ]
    }
   ],
   "source": [
    "count = 0\n",
    "s, a, b = input(), input(), input()\n",
    "\n",
    "while count < 1000:\n",
    "    if s.count(a) == 0:\n",
    "        break\n",
    "    s = s.replace(a, b)\n",
    "    count += 1\n",
    "    \n",
    "print(count if count < 1000 else 'Impossible')\n",
    "    "
   ]
  },
  {
   "cell_type": "markdown",
   "metadata": {},
   "source": [
    "Вашей программе на вход подаются две строки s и t, состоящие из строчных латинских букв.\n",
    "\n",
    "Выведите одно число – количество вхождений строки t в строку s.\n",
    "\n",
    "Пример:\n",
    "s = \"abababa\"\n",
    "t = \"aba\"\n",
    "\n",
    "Вхождения строки t в строку s:\n",
    "abababa\n",
    "abababa\n",
    "abababa\n",
    "\n",
    "Sample Input 1:\n",
    "\n",
    "abababa\n",
    "aba\n",
    "Sample Output 1:\n",
    "\n",
    "3\n",
    "Sample Input 2:\n",
    "\n",
    "abababa\n",
    "abc\n",
    "Sample Output 2:\n",
    "\n",
    "0\n",
    "Sample Input 3:\n",
    "\n",
    "abc\n",
    "abc\n",
    "Sample Output 3:\n",
    "\n",
    "1\n",
    "Sample Input 4:\n",
    "\n",
    "aaaaa\n",
    "a\n",
    "Sample Output 4:\n",
    "\n",
    "5"
   ]
  },
  {
   "cell_type": "code",
   "execution_count": 3,
   "metadata": {},
   "outputs": [
    {
     "name": "stdout",
     "output_type": "stream",
     "text": [
      "3\n"
     ]
    }
   ],
   "source": [
    "# s, t = input(), input()\n",
    "s, t = 'abababa', 'aba'\n",
    "\n",
    "print(sum([s.count(t, i, i + len(t))  for i in range(0, len(s))]))"
   ]
  },
  {
   "cell_type": "code",
   "execution_count": null,
   "metadata": {},
   "outputs": [],
   "source": []
  }
 ],
 "metadata": {
  "kernelspec": {
   "display_name": "Python 3",
   "language": "python",
   "name": "python3"
  },
  "language_info": {
   "codemirror_mode": {
    "name": "ipython",
    "version": 3
   },
   "file_extension": ".py",
   "mimetype": "text/x-python",
   "name": "python",
   "nbconvert_exporter": "python",
   "pygments_lexer": "ipython3",
   "version": "3.7.0"
  }
 },
 "nbformat": 4,
 "nbformat_minor": 2
}
