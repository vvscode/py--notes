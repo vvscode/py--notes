{
 "cells": [
  {
   "cell_type": "markdown",
   "metadata": {},
   "source": [
    "Вам дана последовательность строк.\n",
    "Выведите строки, содержащие \"cat\" в качестве подстроки хотя бы два раза.\n",
    "\n",
    "Примечание:\n",
    "Считать все строки по одной из стандартного потока ввода вы можете, например, так\n",
    "\n",
    "import sys\n",
    "\n",
    "for line in sys.stdin:\n",
    "    line = line.rstrip()\n",
    "    # process line\n"
   ]
  },
  {
   "cell_type": "code",
   "execution_count": 3,
   "metadata": {},
   "outputs": [],
   "source": [
    "import sys\n",
    "import re\n",
    "\n",
    "for line in sys.stdin:\n",
    "    line = line.rstrip()\n",
    "    if len(re.findall('cat', line)) >= 2:\n",
    "        print(line)\n",
    "        \n",
    "# import sys\n",
    "# print(*(s for s in sys.stdin if s.count('cat') > 1), sep='')"
   ]
  },
  {
   "cell_type": "markdown",
   "metadata": {},
   "source": [
    "Вам дана последовательность строк.\n",
    "Выведите строки, содержащие \"cat\" в качестве слова.\n",
    "\n",
    "Примечание:\n",
    "Для работы со словами используйте группы символов \\b и \\B.\n",
    "Описание этих групп вы можете найти в документации.\n",
    "Sample Input:\n",
    "\n",
    "cat\n",
    "catapult and cat\n",
    "catcat\n",
    "concat\n",
    "Cat\n",
    "\"cat\"\n",
    "!cat?\n",
    "Sample Output:\n",
    "\n",
    "cat\n",
    "catapult and cat\n",
    "\"cat\"\n",
    "!cat?"
   ]
  },
  {
   "cell_type": "code",
   "execution_count": null,
   "metadata": {},
   "outputs": [],
   "source": [
    "import sys\n",
    "import re\n",
    "\n",
    "for line in sys.stdin:\n",
    "    line = line.rstrip()\n",
    "    if len(re.findall(r'\\bcat\\b', line)) >= 2:\n",
    "        print(line)\n",
    "        \n",
    "# print('\\n'.join([line.rstrip() for line in sys.stdin if re.search(r'\\bcat\\b', line)]))"
   ]
  },
  {
   "cell_type": "code",
   "execution_count": null,
   "metadata": {},
   "outputs": [],
   "source": [
    "Вам дана последовательность строк.\n",
    "Выведите строки, содержащие две буквы \"z﻿\", между которыми ровно три символа."
   ]
  },
  {
   "cell_type": "code",
   "execution_count": null,
   "metadata": {},
   "outputs": [],
   "source": [
    "import sys\n",
    "import re\n",
    "\n",
    "for line in sys.stdin:\n",
    "    line = line.rstrip()\n",
    "    if len(re.findall(r'z.{3}z', line)) > 0:\n",
    "        print(line)"
   ]
  },
  {
   "cell_type": "markdown",
   "metadata": {},
   "source": [
    "Вам дана последовательность строк.\n",
    "Выведите строки, содержащие обратный слеш \"\\﻿\".\n",
    "Sample Input:\n",
    "\n",
    "\\w denotes word character\n",
    "No slashes here\n",
    "Sample Output:\n",
    "\n",
    "\\w denotes word character"
   ]
  },
  {
   "cell_type": "code",
   "execution_count": null,
   "metadata": {},
   "outputs": [],
   "source": [
    "import sys\n",
    "import re\n",
    "\n",
    "for line in sys.stdin:\n",
    "    line = line.rstrip()\n",
    "    if len(re.findall(r'\\\\', line)) > 0:\n",
    "        print(line)"
   ]
  },
  {
   "cell_type": "markdown",
   "metadata": {},
   "source": [
    "Вам дана последовательность строк.\n",
    "Выведите строки, содержащие слово, состоящее из двух одинаковых частей (тандемный повтор).\n",
    "\n",
    "Sample Input:\n",
    "\n",
    "blabla is a tandem repetition\n",
    "123123 is good too\n",
    "go go\n",
    "aaa\n",
    "Sample Output:\n",
    "\n",
    "blabla is a tandem repetition\n",
    "123123 is good too"
   ]
  },
  {
   "cell_type": "code",
   "execution_count": 1,
   "metadata": {},
   "outputs": [],
   "source": [
    "import sys\n",
    "import re\n",
    "\n",
    "for line in sys.stdin:\n",
    "    line = line.rstrip()\n",
    "    if len(re.findall(r'\\b(.+)\\1\\b', line)) > 0:\n",
    "        print(line)"
   ]
  },
  {
   "cell_type": "markdown",
   "metadata": {},
   "source": [
    "Вам дана последовательность строк.\n",
    "В каждой строке замените все вхождения подстроки \"human\" на подстроку \"computer\"﻿ и выведите полученные строки.\n",
    "\n",
    "Sample Input:\n",
    "\n",
    "I need to understand the human mind\n",
    "humanity\n",
    "Sample Output:\n",
    "\n",
    "I need to understand the computer mind\n",
    "computerity"
   ]
  },
  {
   "cell_type": "code",
   "execution_count": null,
   "metadata": {},
   "outputs": [],
   "source": [
    "import sys\n",
    "import re\n",
    "\n",
    "for line in sys.stdin:\n",
    "    line = line.rstrip()\n",
    "    print(re.sub('human', 'computer', line))"
   ]
  },
  {
   "cell_type": "markdown",
   "metadata": {},
   "source": [
    "Вам дана последовательность строк.\n",
    "В каждой строке замените первое вхождение слова, состоящего только из латинских букв \"a\" (регистр не важен), на слово \"argh\".\n",
    "\n",
    "Примечание:\n",
    "Обратите внимание на параметр count у функции sub.\n",
    "Sample Input:\n",
    "\n",
    "There’ll be no more \"Aaaaaaaaaaaaaaa\"\n",
    "AaAaAaA AaAaAaA\n",
    "Sample Output:\n",
    "\n",
    "There’ll be no more \"argh\"\n",
    "argh AaAaAaA"
   ]
  },
  {
   "cell_type": "code",
   "execution_count": null,
   "metadata": {},
   "outputs": [],
   "source": [
    "import sys\n",
    "import re\n",
    "\n",
    "# [print(re.sub(r'\\b[aA]+\\b', 'argh', line.rstrip(), 1)) for line in sys.stdin]\n",
    "\n",
    "for line in sys.stdin:\n",
    "    line = line.rstrip()\n",
    "    print(re.sub(r'\\b[aA]+\\b', r'argh', line, count=1))"
   ]
  },
  {
   "cell_type": "markdown",
   "metadata": {},
   "source": [
    "Вам дана последовательность строк.\n",
    "В каждой строке поменяйте местами две первых буквы в каждом слове, состоящем хотя бы из двух букв.\n",
    "Буквой считается символ из группы \\w.\n",
    "Sample Input:\n",
    "\n",
    "this is a text\n",
    "\"this' !is. ?n1ce,\n",
    "Sample Output:\n",
    "\n",
    "htis si a etxt\n",
    "\"htis' !si. ?1nce,"
   ]
  },
  {
   "cell_type": "code",
   "execution_count": null,
   "metadata": {},
   "outputs": [],
   "source": [
    "import sys\n",
    "import re\n",
    "\n",
    "for line in sys.stdin:\n",
    "    line = line.rstrip()\n",
    "    print(re.sub(r'\\b(\\w)(\\w)(\\w*)\\b', r'\\2\\1\\3', line))"
   ]
  },
  {
   "cell_type": "markdown",
   "metadata": {},
   "source": [
    "Вам дана последовательность строк.\n",
    "В каждой строке замените все вхождения нескольких одинаковых букв на одну букву.\n",
    "Буквой считается символ из группы \\w.\n",
    "Sample Input:\n",
    "\n",
    "attraction\n",
    "buzzzz\n",
    "Sample Output:\n",
    "\n",
    "atraction\n",
    "buz"
   ]
  },
  {
   "cell_type": "code",
   "execution_count": null,
   "metadata": {},
   "outputs": [],
   "source": [
    "import sys\n",
    "import re\n",
    "\n",
    "for line in sys.stdin:\n",
    "    line = line.rstrip()\n",
    "    print(re.sub(r'(\\w)\\1+', r'\\1', line))"
   ]
  },
  {
   "cell_type": "markdown",
   "metadata": {},
   "source": [
    "Примечание:\n",
    "Эта задача является дополнительной, то есть ее решение не принесет вам баллы.\n",
    "Задача сложнее остальных задач из этого раздела, и идея ее решения выходит за рамки простого понимания регулярных выражений как средства задания шаблона строки.\n",
    "Мы решили включить данную задачу в урок, чтобы показать, что регулярным выражением можно проверить не только \"внешний вид\" строки, но и заложенный в ней смысл.\n",
    "\n",
    "\n",
    "Вам дана последовательность строк.\n",
    "Выведите строки, содержащие двоичную запись числа, кратного 3.\n",
    "\n",
    "Двоичной записью числа называется его запись в двоичной системе счисления.\n",
    "\n",
    "Примечание 2:\n",
    "﻿Данная задача очень просто может быть решена приведением строки к целому числу и проверке остатка от деления на три, но мы все же предлагаем вам решить ее, не используя приведение к числу.\n",
    "Sample Input:\n",
    "\n",
    "0\n",
    "10010\n",
    "00101\n",
    "01001\n",
    "Not a number\n",
    "1 1\n",
    "0 0\n",
    "Sample Output:\n",
    "\n",
    "0\n",
    "10010\n",
    "01001"
   ]
  },
  {
   "cell_type": "code",
   "execution_count": null,
   "metadata": {},
   "outputs": [],
   "source": [
    "# put your python code here\n",
    "import sys\n",
    "import re\n",
    "\n",
    "# https://stackoverflow.com/questions/7974655/regex-for-binary-multiple-of-3/19608040#19608040\n",
    "for line in sys.stdin:\n",
    "    line = line.rstrip()\n",
    "    if re.match(r'^(1(01*0)*1|0)*$', line) is not None:\n",
    "        print(line)"
   ]
  }
 ],
 "metadata": {
  "kernelspec": {
   "display_name": "Python 3",
   "language": "python",
   "name": "python3"
  },
  "language_info": {
   "codemirror_mode": {
    "name": "ipython",
    "version": 3
   },
   "file_extension": ".py",
   "mimetype": "text/x-python",
   "name": "python",
   "nbconvert_exporter": "python",
   "pygments_lexer": "ipython3",
   "version": "3.7.0"
  }
 },
 "nbformat": 4,
 "nbformat_minor": 2
}
