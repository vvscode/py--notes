{
 "cells": [
  {
   "cell_type": "raw",
   "metadata": {},
   "source": [
    "В этой задаче вам необходимо воспользоваться API сайта numbersapi.com\n",
    "\n",
    "Вам дается набор чисел. Для каждого из чисел необходимо узнать, существует ли интересный математический факт об этом числе.\n",
    "\n",
    "Для каждого числа выведите Interesting, если для числа существует интересный факт, и Boring иначе.\n",
    "Выводите информацию об интересности чисел в таком же порядке, в каком следуют числа во входном файле.\n",
    "\n",
    "Пример запроса к интересному числу:\n",
    "http://numbersapi.com/31/math?json=true\n",
    "\n",
    "Пример запроса к скучному числу:\n",
    "http://numbersapi.com/999/math?json=true\n",
    "\n",
    "Пример входного файла:\n",
    "31\n",
    "999\n",
    "1024\n",
    "502\n",
    "\n",
    "﻿Пример выходного файла:\n",
    "Interesting\n",
    "Boring\n",
    "Interesting\n",
    "Boring"
   ]
  },
  {
   "cell_type": "code",
   "execution_count": 10,
   "metadata": {},
   "outputs": [
    {
     "name": "stdout",
     "output_type": "stream",
     "text": [
      "Boring\n",
      "Boring\n",
      "Boring\n",
      "Boring\n",
      "Interesting\n",
      "Boring\n",
      "Interesting\n",
      "Interesting\n",
      "Boring\n",
      "Interesting\n",
      "Interesting\n",
      "Interesting\n",
      "Interesting\n",
      "Interesting\n",
      "Interesting\n"
     ]
    }
   ],
   "source": [
    "import requests\n",
    "import json\n",
    "\n",
    "for line in open('dataset_24476_3.txt'):\n",
    "    data = json.loads(requests.get(f\"http://numbersapi.com/{line.strip()}/math?json=true\").text)\n",
    "    print('Interesting' if data['found'] else 'Boring')\n",
    "    "
   ]
  },
  {
   "cell_type": "code",
   "execution_count": null,
   "metadata": {},
   "outputs": [],
   "source": []
  }
 ],
 "metadata": {
  "kernelspec": {
   "display_name": "Python 3",
   "language": "python",
   "name": "python3"
  },
  "language_info": {
   "codemirror_mode": {
    "name": "ipython",
    "version": 3
   },
   "file_extension": ".py",
   "mimetype": "text/x-python",
   "name": "python",
   "nbconvert_exporter": "python",
   "pygments_lexer": "ipython3",
   "version": "3.7.0"
  }
 },
 "nbformat": 4,
 "nbformat_minor": 2
}
