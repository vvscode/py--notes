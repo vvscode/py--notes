{
 "cells": [
  {
   "cell_type": "raw",
   "metadata": {},
   "source": [
    "Вам дана частичная выборка из датасета зафиксированных преступлений, совершенных в городе Чикаго с 2001 года по настоящее время.\n",
    "\n",
    "Одним из атрибутов преступления является его тип – Primary Type.\n",
    "\n",
    "Вам необходимо узнать тип преступления, которое было зафиксировано максимальное число раз в 2015 году.\n",
    "\n",
    "Файл с данными:\n",
    "Crimes.csv"
   ]
  },
  {
   "cell_type": "code",
   "execution_count": 16,
   "metadata": {},
   "outputs": [
    {
     "name": "stdout",
     "output_type": "stream",
     "text": [
      "THEFT\n"
     ]
    }
   ],
   "source": [
    "import csv\n",
    "\n",
    "with open('Crimes.csv') as f:\n",
    "    reader = csv.reader(f)\n",
    "    crimes_list = list(reader)[1:]\n",
    "    crimes_2015_list = filter(lambda x: x[2].count('2015') > 0, crimes_list)\n",
    "    d = {}\n",
    "    for crime in crimes_2015_list:\n",
    "        crime_type = crime[5]\n",
    "        d[crime_type] = 1 if crime_type not in d else d[crime_type] + 1\n",
    "    \n",
    "    print(sorted(d, key=d.__getitem__)[-1])"
   ]
  },
  {
   "cell_type": "code",
   "execution_count": null,
   "metadata": {},
   "outputs": [],
   "source": []
  },
  {
   "cell_type": "code",
   "execution_count": null,
   "metadata": {},
   "outputs": [],
   "source": []
  }
 ],
 "metadata": {
  "kernelspec": {
   "display_name": "Python 3",
   "language": "python",
   "name": "python3"
  },
  "language_info": {
   "codemirror_mode": {
    "name": "ipython",
    "version": 3
   },
   "file_extension": ".py",
   "mimetype": "text/x-python",
   "name": "python",
   "nbconvert_exporter": "python",
   "pygments_lexer": "ipython3",
   "version": "3.7.0"
  }
 },
 "nbformat": 4,
 "nbformat_minor": 2
}
