{
 "cells": [
  {
   "cell_type": "raw",
   "metadata": {},
   "source": [
    "Вам дана частичная выборка из датасета зафиксированных преступлений, совершенных в городе Чикаго с 2001 года по настоящее время.\n",
    "\n",
    "Одним из атрибутов преступления является его тип – Primary Type.\n",
    "\n",
    "Вам необходимо узнать тип преступления, которое было зафиксировано максимальное число раз в 2015 году.\n",
    "\n",
    "Файл с данными:\n",
    "Crimes.csv"
   ]
  },
  {
   "cell_type": "code",
   "execution_count": 16,
   "metadata": {},
   "outputs": [
    {
     "name": "stdout",
     "output_type": "stream",
     "text": [
      "THEFT\n"
     ]
    }
   ],
   "source": [
    "import csv\n",
    "\n",
    "with open('Crimes.csv') as f:\n",
    "    reader = csv.reader(f)\n",
    "    crimes_list = list(reader)[1:]\n",
    "    crimes_2015_list = filter(lambda x: x[2].count('2015') > 0, crimes_list)\n",
    "    d = {}\n",
    "    for crime in crimes_2015_list:\n",
    "        crime_type = crime[5]\n",
    "        d[crime_type] = 1 if crime_type not in d else d[crime_type] + 1\n",
    "    \n",
    "    print(sorted(d, key=d.__getitem__)[-1])"
   ]
  },
  {
   "cell_type": "raw",
   "metadata": {},
   "source": [
    "Вам дано описание наследования классов в формате JSON. \n",
    "Описание представляет из себя массив JSON-объектов, которые соответствуют классам. У каждого JSON-объекта есть поле name, которое содержит имя класса, и поле parents, которое содержит список имен прямых предков.\n",
    "\n",
    "Пример:\n",
    "[{\"name\": \"A\", \"parents\": []}, {\"name\": \"B\", \"parents\": [\"A\", \"C\"]}, {\"name\": \"C\", \"parents\": [\"A\"]}]\n",
    "\n",
    "﻿Эквивалент на Python:\n",
    "\n",
    "class A:\n",
    "    pass\n",
    "\n",
    "class B(A, C):\n",
    "    pass\n",
    "\n",
    "class C(A):\n",
    "    pass\n",
    "\n",
    "Гарантируется, что никакой класс не наследуется от себя явно или косвенно, и что никакой класс не наследуется явно от одного класса более одного раза.\n",
    "\n",
    "Для каждого класса вычислите предком скольких классов он является и выведите эту информацию в следующем формате.\n",
    "\n",
    "<имя класса> : <количество потомков>\n",
    "\n",
    "Выводить классы следует в лексикографическом порядке.\n",
    "\n",
    "Sample Input:\n",
    "\n",
    "[{\"name\": \"A\", \"parents\": []}, {\"name\": \"B\", \"parents\": [\"A\", \"C\"]}, {\"name\": \"C\", \"parents\": [\"A\"]}]\n",
    "Sample Output:\n",
    "\n",
    "A : 3\n",
    "B : 1\n",
    "C : 2"
   ]
  },
  {
   "cell_type": "code",
   "execution_count": 1,
   "metadata": {},
   "outputs": [
    {
     "name": "stdout",
     "output_type": "stream",
     "text": [
      "[{\"name\": \"A\", \"parents\": []}, {\"name\": \"B\", \"parents\": [\"A\", \"C\"]}, {\"name\": \"C\", \"parents\": [\"A\"]}]\n",
      "{'name': 'A', 'parents': []}\n",
      "{'name': 'B', 'parents': ['A', 'C']}\n",
      "{'name': 'C', 'parents': ['A']}\n",
      "A\n",
      "B\n",
      "C\n",
      "{'A': [], 'B': ['A', 'C'], 'C': ['A']}\n"
     ]
    }
   ],
   "source": [
    "import json\n",
    "\n",
    "def get_children(x, children):\n",
    "    for i in data:\n",
    "        if x in i['parents']:\n",
    "            children.add(i['name'])\n",
    "            children = get_children(i['name'], children)\n",
    "    return children\n",
    "\n",
    "\n",
    "data = json.loads(input())\n",
    "data.sort(key=(lambda x: x['name']))\n",
    "for el in data:\n",
    "    print(el['name'], ':', len(get_children(el['name'], children=set())) + 1)\n",
    "\n",
    "\n",
    "\n",
    "# cls = {c['name']: c['parents'] for c in json.loads(input())}\n",
    "\n",
    "# isbase = lambda b, d: b == d or any(isbase(b, c) for c in cls[d])\n",
    "\n",
    "# for p in sorted(cls):\n",
    "#     print(p, ':', len({c for c in cls if isbase(p, c)}))"
   ]
  },
  {
   "cell_type": "code",
   "execution_count": null,
   "metadata": {},
   "outputs": [],
   "source": []
  }
 ],
 "metadata": {
  "kernelspec": {
   "display_name": "Python 3",
   "language": "python",
   "name": "python3"
  },
  "language_info": {
   "codemirror_mode": {
    "name": "ipython",
    "version": 3
   },
   "file_extension": ".py",
   "mimetype": "text/x-python",
   "name": "python",
   "nbconvert_exporter": "python",
   "pygments_lexer": "ipython3",
   "version": "3.7.0"
  }
 },
 "nbformat": 4,
 "nbformat_minor": 2
}
