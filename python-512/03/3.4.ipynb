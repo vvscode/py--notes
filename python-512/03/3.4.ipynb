{
 "cells": [
  {
   "cell_type": "markdown",
   "metadata": {},
   "source": [
    "Рассмотрим два HTML-документа A и B.\n",
    "Из A можно перейти в B за один переход, если в A есть ссылка на B, т. е. внутри A есть тег <a href=\"B\">, возможно с дополнительными параметрами внутри тега.\n",
    "Из A можно перейти в B за два перехода если существует такой документ C, что из A в C можно перейти за один переход и из C в B можно перейти за один переход.\n",
    "\n",
    "Вашей программе на вход подаются две строки, содержащие url двух документов A и B.\n",
    "Выведите Yes, если из A в B можно перейти за два перехода, иначе выведите No.\n",
    "\n",
    "Обратите внимание на то, что не все ссылки внутри HTML документа могут вести на существующие HTML документы.\n",
    "\n",
    "Sample Input 1:\n",
    "\n",
    "https://stepic.org/media/attachments/lesson/24472/sample0.html\n",
    "https://stepic.org/media/attachments/lesson/24472/sample2.html\n",
    "Sample Output 1:\n",
    "\n",
    "Yes\n",
    "Sample Input 2:\n",
    "\n",
    "https://stepic.org/media/attachments/lesson/24472/sample0.html\n",
    "https://stepic.org/media/attachments/lesson/24472/sample1.html\n",
    "Sample Output 2:\n",
    "\n",
    "No\n",
    "Sample Input 3:\n",
    "\n",
    "https://stepic.org/media/attachments/lesson/24472/sample1.html\n",
    "https://stepic.org/media/attachments/lesson/24472/sample2.html\n",
    "Sample Output 3:\n",
    "\n",
    "Yes"
   ]
  },
  {
   "cell_type": "code",
   "execution_count": 9,
   "metadata": {},
   "outputs": [
    {
     "name": "stdout",
     "output_type": "stream",
     "text": [
      "Yes\n"
     ]
    }
   ],
   "source": [
    "import requests\n",
    "import re\n",
    "\n",
    "a = input() # 'https://stepic.org/media/attachments/lesson/24472/sample0.html'\n",
    "b = input() # 'https://stepic.org/media/attachments/lesson/24472/sample2.html'\n",
    "r = 'No'\n",
    "\n",
    "a_text = requests.get(a).text\n",
    "a_links = re.findall(r'href=\\\"(.+)\"', a_text)\n",
    "\n",
    "for i in a_links:\n",
    "    if b in re.findall(r'href=\\\"(.+)\"', requests.get(i).text):\n",
    "        r = 'Yes'\n",
    "print(r)"
   ]
  },
  {
   "cell_type": "code",
   "execution_count": null,
   "metadata": {},
   "outputs": [],
   "source": []
  }
 ],
 "metadata": {
  "kernelspec": {
   "display_name": "Python 3",
   "language": "python",
   "name": "python3"
  },
  "language_info": {
   "codemirror_mode": {
    "name": "ipython",
    "version": 3
   },
   "file_extension": ".py",
   "mimetype": "text/x-python",
   "name": "python",
   "nbconvert_exporter": "python",
   "pygments_lexer": "ipython3",
   "version": "3.7.0"
  }
 },
 "nbformat": 4,
 "nbformat_minor": 2
}
