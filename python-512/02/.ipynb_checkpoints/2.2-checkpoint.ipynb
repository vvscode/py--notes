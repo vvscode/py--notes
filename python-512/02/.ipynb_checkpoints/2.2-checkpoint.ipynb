{
 "cells": [
  {
   "cell_type": "markdown",
   "metadata": {},
   "source": [
    "В первой строке дано три числа, соответствующие некоторой дате date -- год, месяц и день.\n",
    "Во второй строке дано одно число days -- число дней.\n",
    "\n",
    "Вычислите и выведите год, месяц и день даты, которая наступит, когда с момента исходной даты date пройдет число дней, равное days.\n",
    "\n",
    "Примечание:\n",
    "Для решения этой задачи используйте стандартный модуль datetime.\n",
    "Вам будут полезны класс datetime.date для хранения даты и класс datetime.timedelta﻿ для прибавления дней к дате.\n",
    "\n",
    "Sample Input 1:\n",
    "\n",
    "2016 4 20\n",
    "14\n",
    "Sample Output 1:\n",
    "\n",
    "2016 5 4\n",
    "Sample Input 2:\n",
    "\n",
    "2016 2 20\n",
    "9\n",
    "Sample Output 2:\n",
    "\n",
    "2016 2 29\n",
    "Sample Input 3:\n",
    "\n",
    "2015 12 31\n",
    "1\n",
    "Sample Output 3:\n",
    "\n",
    "2016 1 1"
   ]
  },
  {
   "cell_type": "code",
   "execution_count": 7,
   "metadata": {},
   "outputs": [
    {
     "name": "stdout",
     "output_type": "stream",
     "text": [
      "2017 2 3\n",
      "4\n",
      "2017 2 7\n"
     ]
    }
   ],
   "source": [
    "import datetime\n",
    "\n",
    "y, m, d = map(int, input().split())\n",
    "delta = int(input())\n",
    "\n",
    "date = datetime.date(y, m, d)\n",
    "new_date = date + datetime.timedelta(delta)\n",
    "print(f\"{new_date.year} {new_date.month} {new_date.day}\")"
   ]
  },
  {
   "cell_type": "markdown",
   "metadata": {},
   "source": [
    "Алиса владеет интересной информацией, которую хочет заполучить Боб.\n",
    "Алиса умна, поэтому она хранит свою информацию в зашифрованном файле.\n",
    "У Алисы плохая память, поэтому она хранит все свои пароли в открытом виде в текстовом файле.\n",
    "\n",
    "Бобу удалось завладеть зашифрованным файлом с интересной информацией и файлом с паролями, но он не смог понять какой из паролей ему нужен. Помогите ему решить эту проблему.\n",
    "\n",
    "Алиса зашифровала свою информацию с помощью библиотеки simple-crypt.\n",
    "Она представила информацию в виде строки, и затем записала в бинарный файл результат работы метода simplecrypt.encrypt.\n",
    "\n",
    "Вам необходимо установить библиотеку simple-crypt, и с помощью метода simplecrypt.decrypt узнать, какой из паролей служит ключом для расшифровки файла с интересной информацией.\n",
    "\n",
    "Ответом для данной задачи служит расшифрованная интересная информация Алисы.\n",
    "\n",
    "Файл с информацией \n",
    "Файл с паролями \n",
    "\n",
    "Примечание:\n",
    "Для того, чтобы считать все данные из бинарного файла, можно использовать, например, следующий код:\n",
    "\n",
    "with open(\"encrypted.bin\", \"rb\") as inp:\n",
    "    encrypted = inp.read()\n",
    "\n",
    "Примечание:\n",
    "﻿Работа с файлами рассмотрена в следующем уроке, поэтому вы можете вернуться к этой задаче после просмотра следующего урока."
   ]
  },
  {
   "cell_type": "code",
   "execution_count": 17,
   "metadata": {},
   "outputs": [
    {
     "name": "stdout",
     "output_type": "stream",
     "text": [
      "b'sc\\x00\\x02\\x96\\x93^\\xd7&1\\x9f\\xd0\\x14\\x02\\x14\\xd1\\x92`\\xeb\\x1b\\xdbulr\\x0e\\xeb\\x0f\\xf0D\\xcf\\x87\\xf5\\xd5\\xf2oKA\\x89b/\\xaa\\xa6y;\\x8b)\\x89\\xbdl\\x0f\\x96\\x144\\x8e\\xe2P\\xa8\\xcf\\xc7T\\xf6>.`m\\xfbC/\\xc1V\\xd2>\\xd0\\xaf\\xbb0%V\\x14\\xac\\xf7\\n\\xcd'\n",
      "Password: `9XB8nsIqRfYeswC`\n",
      "Something went wrong\n",
      "Password: `4sEhUGLEZti9BiN`\n",
      "Something went wrong\n",
      "Password: `bDjmT0NcIW8nzhb`\n",
      "Something went wrong\n",
      "Password: `ZN6QQoMOO1ZQLUY`\n",
      "Something went wrong\n",
      "Password: `RVrF2qdMpoq6Lib`\n",
      "b'Alice loves Bob'\n",
      "Password: `tnnX7HH3vJ9Hiji`\n",
      "Something went wrong\n",
      "Password: `C24TJYYkqekv40l`\n",
      "Something went wrong\n",
      "Password: `B2ropluPaMAitzE`\n",
      "Something went wrong\n",
      "Password: `DRezNUVnr2zC0CP`\n",
      "Something went wrong\n",
      "Password: `XCNmpTvvZb1n3mX`\n",
      "Something went wrong\n"
     ]
    }
   ],
   "source": [
    "from simplecrypt import decrypt\n",
    "\n",
    "with open(\"encrypted.bin\", \"rb\") as inp:\n",
    "    encrypted = inp.read()\n",
    "    \n",
    "print(encrypted)\n",
    "    \n",
    "for pwd in [line.strip() for line in open('passwords.txt')]:\n",
    "    try:\n",
    "        print(f\"Password: `{pwd}`\")\n",
    "        print(decrypt(pwd, encrypted))\n",
    "    except:\n",
    "        print(\"Something went wrong\")"
   ]
  },
  {
   "cell_type": "code",
   "execution_count": null,
   "metadata": {},
   "outputs": [],
   "source": []
  }
 ],
 "metadata": {
  "kernelspec": {
   "display_name": "Python 3",
   "language": "python",
   "name": "python3"
  },
  "language_info": {
   "codemirror_mode": {
    "name": "ipython",
    "version": 3
   },
   "file_extension": ".py",
   "mimetype": "text/x-python",
   "name": "python",
   "nbconvert_exporter": "python",
   "pygments_lexer": "ipython3",
   "version": "3.7.0"
  }
 },
 "nbformat": 4,
 "nbformat_minor": 2
}
