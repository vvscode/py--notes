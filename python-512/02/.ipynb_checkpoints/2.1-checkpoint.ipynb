{
 "cells": [
  {
   "cell_type": "markdown",
   "metadata": {},
   "source": [
    "Вам дано описание наследования классов исключений в следующем формате. \n",
    "<имя исключения 1> : <имя исключения 2> <имя исключения 3> ... <имя исключения k>\n",
    "Это означает, что исключение 1 наследуется от исключения 2, исключения 3, и т. д.\n",
    "\n",
    "Или эквивалентно записи:\n",
    "class Error1(Error2, Error3 ... ErrorK):\n",
    "    pass\n",
    "\n",
    "Антон написал код, который выглядит следующим образом.\n",
    "\n",
    "try:\n",
    "   foo()\n",
    "except <имя 1>:\n",
    "   print(\"<имя 1>\")\n",
    "except <имя 2>:\n",
    "   print(\"<имя 2>\")\n",
    "...\n",
    "Костя посмотрел на этот код и указал Антону на то, что некоторые исключения можно не ловить, так как ранее в коде будет пойман их предок. Но Антон не помнит какие исключения наследуются от каких. Помогите ему выйти из неловкого положения и напишите программу, которая будет определять обработку каких исключений можно удалить из кода.\n",
    "\n",
    "Важное примечание:\n",
    "В отличие от предыдущей задачи, типы исключений не созданы.\n",
    "Создавать классы исключений также не требуется\n",
    "Мы просим вас промоделировать этот процесс, и понять какие из исключений можно и не ловить, потому что мы уже ранее где-то поймали их предка.\n",
    "\n",
    "Формат входных данных\n",
    "В первой строке входных данных содержится целое число n - число классов исключений.\n",
    "\n",
    "В следующих n строках содержится описание наследования классов. В i-й строке указано от каких классов наследуется i-й класс. Обратите внимание, что класс может ни от кого не наследоваться. Гарантируется, что класс не наследуется сам от себя (прямо или косвенно), что класс не наследуется явно от одного класса более одного раза.\n",
    "\n",
    "В следующей строке содержится число m - количество обрабатываемых исключений.\n",
    "Следующие m строк содержат имена исключений в том порядке, в каком они были написаны у Антона в коде.\n",
    "Гарантируется, что никакое исключение не обрабатывается дважды.\n",
    "\n",
    "Формат выходных данных\n",
    "Выведите в отдельной строке имя каждого исключения, обработку которого можно удалить из кода, не изменив при этом поведение программы. Имена следует выводить в том же порядке, в котором они идут во входных данных.\n",
    "\n",
    "Пример теста 1\n",
    "Рассмотрим код\n",
    "\n",
    "try:\n",
    "   foo()\n",
    "except ZeroDivision :\n",
    "   print(\"ZeroDivision\")\n",
    "except OSError:\n",
    "   print(\"OSError\")\n",
    "except ArithmeticError:\n",
    "   print(\"ArithmeticError\")\n",
    "except FileNotFoundError:\n",
    "   print(\"FileNotFoundError\")\n",
    "\n",
    "\n",
    "...\n",
    "\n",
    "\n",
    "По условию этого теста, Костя посмотрел на этот код, и сказал Антону, что исключение FileNotFoundError можно не ловить, ведь мы уже ловим OSError -- предок FileNotFoundError\n",
    "Sample Input:\n",
    "\n",
    "4\n",
    "ArithmeticError\n",
    "ZeroDivisionError : ArithmeticError\n",
    "OSError\n",
    "FileNotFoundError : OSError\n",
    "4\n",
    "ZeroDivisionError\n",
    "OSError\n",
    "ArithmeticError\n",
    "FileNotFoundError\n",
    "Sample Output:\n",
    "\n",
    "FileNotFoundError"
   ]
  },
  {
   "cell_type": "code",
   "execution_count": 4,
   "metadata": {},
   "outputs": [
    {
     "name": "stdout",
     "output_type": "stream",
     "text": [
      "4\n",
      "ArithmeticError\n",
      "ZeroDivisionError : ArithmeticError\n",
      "OSError\n",
      "FileNotFoundError : OSError\n",
      "4\n",
      "ZeroDivisionError\n",
      "OSError\n",
      "ArithmeticError\n",
      "FileNotFoundError\n",
      "FileNotFoundError\n"
     ]
    }
   ],
   "source": [
    "exceptions = {}\n",
    "for i in range(int(input())):\n",
    "    [ex_name, *parents] = input().split(' : ')\n",
    "    if len(parents) > 0: parents = parents[0].split(' ')\n",
    "    for i in parents:\n",
    "        if i not in exceptions: exceptions[i] = []\n",
    "        exceptions[i].append(ex_name);\n",
    "\n",
    "caught_exceptions = []\n",
    "def hanlde_exceptions(ex_name):\n",
    "    caught_exceptions.append(ex_name)\n",
    "    if ex_name in exceptions:\n",
    "        for i in exceptions[ex_name]: hanlde_exceptions(i)\n",
    "\n",
    "for i in range(int(input())):\n",
    "    ex_name = input()\n",
    "    if caught_exceptions.count(ex_name) > 0: print(ex_name)\n",
    "    hanlde_exceptions(ex_name)\n",
    "    "
   ]
  },
  {
   "cell_type": "markdown",
   "metadata": {},
   "source": [
    "Реализуйте класс PositiveList, отнаследовав его от класса list, для хранения положительных целых чисел.\n",
    "Также реализуйте новое исключение NonPositiveError.\n",
    "\n",
    "В классе PositiveList переопределите метод append(self, x) таким образом, чтобы при попытке добавить неположительное целое число бросалось исключение NonPositiveError и число не добавлялось, а при попытке добавить положительное целое число, число добавлялось бы как в стандартный list.\n",
    "\n",
    "В данной задаче гарантируется, что в качестве аргумента x метода append всегда будет передаваться целое число.\n",
    "\n",
    "Примечание:\n",
    "Положительными считаются числа, строго большие нуля."
   ]
  },
  {
   "cell_type": "code",
   "execution_count": 6,
   "metadata": {},
   "outputs": [
    {
     "name": "stdout",
     "output_type": "stream",
     "text": [
      "[1]\n",
      "[1, 2]\n"
     ]
    },
    {
     "ename": "NonPositiveError",
     "evalue": "-3",
     "output_type": "error",
     "traceback": [
      "\u001b[0;31m---------------------------------------------------------------------------\u001b[0m",
      "\u001b[0;31mNonPositiveError\u001b[0m                          Traceback (most recent call last)",
      "\u001b[0;32m<ipython-input-6-b8aae2819139>\u001b[0m in \u001b[0;36m<module>\u001b[0;34m()\u001b[0m\n\u001b[1;32m     15\u001b[0m \u001b[0mpl\u001b[0m\u001b[0;34m.\u001b[0m\u001b[0mappend\u001b[0m\u001b[0;34m(\u001b[0m\u001b[0;36m2\u001b[0m\u001b[0;34m)\u001b[0m\u001b[0;34m\u001b[0m\u001b[0m\n\u001b[1;32m     16\u001b[0m \u001b[0mprint\u001b[0m\u001b[0;34m(\u001b[0m\u001b[0mpl\u001b[0m\u001b[0;34m)\u001b[0m\u001b[0;34m\u001b[0m\u001b[0m\n\u001b[0;32m---> 17\u001b[0;31m \u001b[0mpl\u001b[0m\u001b[0;34m.\u001b[0m\u001b[0mappend\u001b[0m\u001b[0;34m(\u001b[0m\u001b[0;34m-\u001b[0m\u001b[0;36m3\u001b[0m\u001b[0;34m)\u001b[0m\u001b[0;34m\u001b[0m\u001b[0m\n\u001b[0m",
      "\u001b[0;32m<ipython-input-6-b8aae2819139>\u001b[0m in \u001b[0;36mappend\u001b[0;34m(self, x)\u001b[0m\n\u001b[1;32m      8\u001b[0m             \u001b[0msuper\u001b[0m\u001b[0;34m(\u001b[0m\u001b[0;34m)\u001b[0m\u001b[0;34m.\u001b[0m\u001b[0mappend\u001b[0m\u001b[0;34m(\u001b[0m\u001b[0mx\u001b[0m\u001b[0;34m)\u001b[0m\u001b[0;34m\u001b[0m\u001b[0m\n\u001b[1;32m      9\u001b[0m         \u001b[0;32melse\u001b[0m\u001b[0;34m:\u001b[0m\u001b[0;34m\u001b[0m\u001b[0m\n\u001b[0;32m---> 10\u001b[0;31m             \u001b[0;32mraise\u001b[0m \u001b[0mNonPositiveError\u001b[0m\u001b[0;34m(\u001b[0m\u001b[0mx\u001b[0m\u001b[0;34m)\u001b[0m\u001b[0;34m\u001b[0m\u001b[0m\n\u001b[0m\u001b[1;32m     11\u001b[0m \u001b[0;34m\u001b[0m\u001b[0m\n\u001b[1;32m     12\u001b[0m \u001b[0mpl\u001b[0m \u001b[0;34m=\u001b[0m \u001b[0mPositiveList\u001b[0m\u001b[0;34m(\u001b[0m\u001b[0;34m)\u001b[0m\u001b[0;34m\u001b[0m\u001b[0m\n",
      "\u001b[0;31mNonPositiveError\u001b[0m: -3"
     ]
    }
   ],
   "source": [
    "class NonPositiveError(Exception):\n",
    "    def __init__(self, num):\n",
    "        self.message = str(num) + \" is not positive\"\n",
    "\n",
    "class PositiveList(list):\n",
    "    def append(self, x):\n",
    "        if x > 0:\n",
    "            super().append(x)\n",
    "        else:\n",
    "            raise NonPositiveError(x)\n",
    "            \n",
    "pl = PositiveList()\n",
    "pl.append(1)\n",
    "print(pl)\n",
    "pl.append(2)\n",
    "print(pl)\n",
    "pl.append(-3)"
   ]
  },
  {
   "cell_type": "code",
   "execution_count": null,
   "metadata": {},
   "outputs": [],
   "source": []
  }
 ],
 "metadata": {
  "kernelspec": {
   "display_name": "Python 3",
   "language": "python",
   "name": "python3"
  },
  "language_info": {
   "codemirror_mode": {
    "name": "ipython",
    "version": 3
   },
   "file_extension": ".py",
   "mimetype": "text/x-python",
   "name": "python",
   "nbconvert_exporter": "python",
   "pygments_lexer": "ipython3",
   "version": "3.7.0"
  }
 },
 "nbformat": 4,
 "nbformat_minor": 2
}
