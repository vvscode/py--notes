{
 "cells": [
  {
   "cell_type": "markdown",
   "metadata": {},
   "source": [
    "Лямбда функции предоставляют нам удобный способ создать функцию «прямо на месте». \n",
    "Но иногда, когда нужно создавать много однотипных лямбда функций, еще удобнее будет создать функцию, которая будет их генерировать.\n",
    "\n",
    "Реализуйте функцию mod_checker(x, mod=0), которая будет генерировать лямбда функцию от одного аргумента y, которая будет возвращать True, если остаток от деления y на x равен mod, и False иначе.\n",
    "\n",
    "﻿Пример использования:\n",
    "\n",
    "mod_3 = mod_checker(3)\n",
    "\n",
    "print(mod_3(3)) # True\n",
    "print(mod_3(4)) # False\n",
    "\n",
    "mod_3_1 = mod_checker(3, 1)\n",
    "print(mod_3_1(4)) # True"
   ]
  },
  {
   "cell_type": "code",
   "execution_count": 5,
   "metadata": {},
   "outputs": [
    {
     "name": "stdout",
     "output_type": "stream",
     "text": [
      "True\n",
      "False\n",
      "True\n"
     ]
    }
   ],
   "source": [
    "# def mod_checker(num, mod = 0):\n",
    "#     return lambda x: x % num == mod\n",
    "\n",
    "mod_checker = lambda num, mod = 0: lambda x: x % num == mod\n",
    "\n",
    "mod_3 = mod_checker(3)\n",
    "\n",
    "print(mod_3(3)) # True\n",
    "print(mod_3(4)) # False\n",
    "\n",
    "mod_3_1 = mod_checker(3, 1)\n",
    "print(mod_3_1(4)) # True"
   ]
  },
  {
   "cell_type": "code",
   "execution_count": null,
   "metadata": {},
   "outputs": [],
   "source": []
  }
 ],
 "metadata": {
  "kernelspec": {
   "display_name": "Python 3",
   "language": "python",
   "name": "python3"
  },
  "language_info": {
   "codemirror_mode": {
    "name": "ipython",
    "version": 3
   },
   "file_extension": ".py",
   "mimetype": "text/x-python",
   "name": "python",
   "nbconvert_exporter": "python",
   "pygments_lexer": "ipython3",
   "version": "3.7.0"
  }
 },
 "nbformat": 4,
 "nbformat_minor": 2
}
