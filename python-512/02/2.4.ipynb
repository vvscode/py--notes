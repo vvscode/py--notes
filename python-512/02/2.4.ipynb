{
 "cells": [
  {
   "cell_type": "markdown",
   "metadata": {},
   "source": [
    "Вам дается текстовый файл, содержащий некоторое количество непустых строк.\n",
    "На основе него сгенерируйте новый текстовый файл, содержащий те же строки в обратном порядке.\n",
    "\n",
    "Пример входного файла:\n",
    "ab\n",
    "c\n",
    "dde\n",
    "ff\n",
    "\n",
    "﻿Пример выходного файла:\n",
    "ff\n",
    "dde\n",
    "c\n",
    "ab\n",
    "\n",
    "У вас есть неограниченное число попыток."
   ]
  },
  {
   "cell_type": "code",
   "execution_count": 6,
   "metadata": {},
   "outputs": [
    {
     "name": "stdout",
     "output_type": "stream",
     "text": [
      "done\n"
     ]
    }
   ],
   "source": [
    "file_name = 'dataset_24465_4.txt'\n",
    "\n",
    "with open(file_name, \"r\") as in_file:\n",
    "    with open('reversed_' + file_name, 'w') as out_file:\n",
    "        lines = in_file.read().strip().split('\\n')\n",
    "#         print(lines)\n",
    "        lines.reverse()\n",
    "#         print(lines)\n",
    "        out_file.write('\\n'.join(lines))\n",
    "        \n",
    "print('done');\n",
    "    \n"
   ]
  },
  {
   "cell_type": "code",
   "execution_count": null,
   "metadata": {},
   "outputs": [],
   "source": []
  },
  {
   "cell_type": "code",
   "execution_count": null,
   "metadata": {},
   "outputs": [],
   "source": []
  },
  {
   "cell_type": "code",
   "execution_count": null,
   "metadata": {},
   "outputs": [],
   "source": []
  }
 ],
 "metadata": {
  "kernelspec": {
   "display_name": "Python 3",
   "language": "python",
   "name": "python3"
  },
  "language_info": {
   "codemirror_mode": {
    "name": "ipython",
    "version": 3
   },
   "file_extension": ".py",
   "mimetype": "text/x-python",
   "name": "python",
   "nbconvert_exporter": "python",
   "pygments_lexer": "ipython3",
   "version": "3.7.0"
  }
 },
 "nbformat": 4,
 "nbformat_minor": 2
}
