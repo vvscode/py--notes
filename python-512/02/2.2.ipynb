{
 "cells": [
  {
   "cell_type": "markdown",
   "metadata": {},
   "source": [
    "В первой строке дано три числа, соответствующие некоторой дате date -- год, месяц и день.\n",
    "Во второй строке дано одно число days -- число дней.\n",
    "\n",
    "Вычислите и выведите год, месяц и день даты, которая наступит, когда с момента исходной даты date пройдет число дней, равное days.\n",
    "\n",
    "Примечание:\n",
    "Для решения этой задачи используйте стандартный модуль datetime.\n",
    "Вам будут полезны класс datetime.date для хранения даты и класс datetime.timedelta﻿ для прибавления дней к дате.\n",
    "\n",
    "Sample Input 1:\n",
    "\n",
    "2016 4 20\n",
    "14\n",
    "Sample Output 1:\n",
    "\n",
    "2016 5 4\n",
    "Sample Input 2:\n",
    "\n",
    "2016 2 20\n",
    "9\n",
    "Sample Output 2:\n",
    "\n",
    "2016 2 29\n",
    "Sample Input 3:\n",
    "\n",
    "2015 12 31\n",
    "1\n",
    "Sample Output 3:\n",
    "\n",
    "2016 1 1"
   ]
  },
  {
   "cell_type": "code",
   "execution_count": 7,
   "metadata": {},
   "outputs": [
    {
     "name": "stdout",
     "output_type": "stream",
     "text": [
      "2017 2 3\n",
      "4\n",
      "2017 2 7\n"
     ]
    }
   ],
   "source": [
    "import datetime\n",
    "\n",
    "y, m, d = map(int, input().split())\n",
    "delta = int(input())\n",
    "\n",
    "date = datetime.date(y, m, d)\n",
    "new_date = date + datetime.timedelta(delta)\n",
    "print(f\"{new_date.year} {new_date.month} {new_date.day}\")"
   ]
  },
  {
   "cell_type": "code",
   "execution_count": null,
   "metadata": {},
   "outputs": [],
   "source": []
  }
 ],
 "metadata": {
  "kernelspec": {
   "display_name": "Python 3",
   "language": "python",
   "name": "python3"
  },
  "language_info": {
   "codemirror_mode": {
    "name": "ipython",
    "version": 3
   },
   "file_extension": ".py",
   "mimetype": "text/x-python",
   "name": "python",
   "nbconvert_exporter": "python",
   "pygments_lexer": "ipython3",
   "version": "3.7.0"
  }
 },
 "nbformat": 4,
 "nbformat_minor": 2
}
