{
 "cells": [
  {
   "cell_type": "markdown",
   "metadata": {},
   "source": [
    "На прошлой неделе мы сжимали строки, используя кодирование повторов. Теперь нашей задачей будет восстановление исходной строки обратно.\n",
    "\n",
    "Напишите программу, которая считывает из файла строку, соответствующую тексту, сжатому с помощью кодирования повторов, и производит обратную операцию, получая исходный текст.\n",
    "\n",
    "Запишите полученный текст в файл и прикрепите его, как ответ на это задание.\n",
    "\n",
    "В исходном тексте не встречаются цифры, так что код однозначно интерпретируем.\n",
    "\n",
    "Примечание. Это первое задание типа Dataset Quiz. В таких заданиях после нажатия \"Start Quiz\" у вас появляется ссылка \"download your dataset\". Используйте эту ссылку для того, чтобы загрузить файл со входными данными к себе на компьютер. Запустите вашу программу, используя этот файл в качестве входных данных. Выходной файл, который при этом у вас получится, надо отправить в качестве ответа на эту задачу. \n",
    "\n",
    "Sample Input:\n",
    "\n",
    "a3b4c2e10b1\n",
    "Sample Output:\n",
    "\n",
    "aaabbbbcceeeeeeeeeeb\n",
    "У вас есть неограниченное число попыток.\n",
    "Время одной попытки: 5 mins"
   ]
  },
  {
   "cell_type": "code",
   "execution_count": 10,
   "metadata": {},
   "outputs": [
    {
     "name": "stdout",
     "output_type": "stream",
     "text": [
      "M12F20g7s8D19s13Z3Y4A5i12o11D3y20i16L16W3P12f4O9P11y11c20z18T15B10N4l11w7y4V2b15J12B2G15r14 >> MMMMMMMMMMMMFFFFFFFFFFFFFFFFFFFFgggggggssssssssDDDDDDDDDDDDDDDDDDDsssssssssssssZZZYYYYAAAAAiiiiiiiiiiiioooooooooooDDDyyyyyyyyyyyyyyyyyyyyiiiiiiiiiiiiiiiiLLLLLLLLLLLLLLLLWWWPPPPPPPPPPPPffffOOOOOOOOOPPPPPPPPPPPyyyyyyyyyyycccccccccccccccccccczzzzzzzzzzzzzzzzzzTTTTTTTTTTTTTTTBBBBBBBBBBNNNNlllllllllllwwwwwwwyyyyVVbbbbbbbbbbbbbbbJJJJJJJJJJJJBBGGGGGGGGGGGGGGGrrrrrrrrrrrrrr\n"
     ]
    }
   ],
   "source": [
    "file_name = 'dataset_3363_2.txt'\n",
    "\n",
    "with open(file_name) as f: data = f.read().strip()\n",
    "\n",
    "out = ''\n",
    "symbol = ''\n",
    "repeat = 0\n",
    "\n",
    "for x in data:\n",
    "    if x.isalpha():\n",
    "        out += symbol * repeat\n",
    "        symbol = x\n",
    "        repeat = 0\n",
    "    else:\n",
    "        repeat = repeat*10 + int(x)\n",
    "\n",
    "out += symbol * repeat\n",
    "\n",
    "out_file = open('out.txt', 'w')\n",
    "out_file.write(out)\n",
    "out_file.close()\n",
    "\n",
    "print(data, '>>', out)\n"
   ]
  }
 ],
 "metadata": {
  "kernelspec": {
   "display_name": "Python 3",
   "language": "python",
   "name": "python3"
  },
  "language_info": {
   "codemirror_mode": {
    "name": "ipython",
    "version": 3
   },
   "file_extension": ".py",
   "mimetype": "text/x-python",
   "name": "python",
   "nbconvert_exporter": "python",
   "pygments_lexer": "ipython3",
   "version": "3.7.0"
  }
 },
 "nbformat": 4,
 "nbformat_minor": 2
}
