{
 "cells": [
  {
   "cell_type": "markdown",
   "metadata": {},
   "source": [
    "Напишите программу, которая принимает на стандартный вход список игр футбольных команд с результатом матча и выводит на стандартный вывод сводную таблицу результатов всех матчей.\n",
    "\n",
    "За победу команде начисляется 3 очка, за поражение — 0, за ничью — 1.\n",
    "\n",
    "Формат ввода следующий:\n",
    "В первой строке указано целое число n — количество завершенных игр.\n",
    "После этого идет n строк, в которых записаны результаты игры в следующем формате:\n",
    "Первая_команда;Забито_первой_командой;Вторая_команда;Забито_второй_командой\n",
    "\n",
    "Вывод программы необходимо оформить следующим образом:\n",
    "Команда:Всего_игр Побед Ничьих Поражений Всего_очков\n",
    "\n",
    "Конкретный пример ввода-вывода приведён ниже.\n",
    "\n",
    "Порядок вывода команд произвольный.\n",
    "\n",
    "Sample Input:\n",
    "\n",
    "3\n",
    "Зенит;3;Спартак;1\n",
    "Спартак;1;ЦСКА;1\n",
    "ЦСКА;0;Зенит;2\n",
    "Sample Output:\n",
    "\n",
    "Зенит:2 2 0 0 6\n",
    "ЦСКА:2 0 1 1 1\n",
    "Спартак:2 0 1 1 1"
   ]
  },
  {
   "cell_type": "code",
   "execution_count": 10,
   "metadata": {},
   "outputs": [
    {
     "name": "stdout",
     "output_type": "stream",
     "text": [
      "3\n",
      "3 Зенит;3;Спартак;1\n",
      "3 Зенит;3;Спартак;1\n",
      "3 Зенит;3;Спартак;1\n",
      "3 Зенит 3 3 0 9\n",
      "Спартак 3 0 3 3\n"
     ]
    }
   ],
   "source": [
    "rows = int(input())\n",
    "d = {}\n",
    "\n",
    "for i in range(0, rows):\n",
    "    row = input().split(';')\n",
    "    team1 = row[0]\n",
    "    team2 = row[2]\n",
    "    team1_b = int(row[1])\n",
    "    team2_b = int(row[3])\n",
    "    \n",
    "    d.setdefault(team1, {\n",
    "        'total': 0,\n",
    "        'games': 0,\n",
    "        'won': 0,\n",
    "        'draw': 0,\n",
    "        'lost': 0\n",
    "    })\n",
    "    d.setdefault(team2, {\n",
    "        'total': 0,\n",
    "        'games': 0,\n",
    "        'won': 0,\n",
    "        'draw': 0,\n",
    "        'lost': 0\n",
    "    })\n",
    "    \n",
    "    d[team1]['games'] += 1\n",
    "    d[team2]['games'] += 1\n",
    "    \n",
    "    d[team1]['draw'] += 1 if team1_b == team2_b else 0\n",
    "    d[team2]['draw'] += 1 if team1_b == team2_b else 0\n",
    "    \n",
    "    d[team1]['won'] += 1 if team1_b > team2_b else 0\n",
    "    d[team2]['won']+= 1 if team2_b > team1_b else 0\n",
    "    \n",
    "    d[team1]['lost'] += 1 if team1_b < team2_b else 0\n",
    "    d[team2]['lost'] += 1 if team2_b < team1_b else 0\n",
    "    \n",
    "    d[team1]['total'] += 0 if team1_b < team2_b else 1 if team1_b == team2_b else 3\n",
    "    d[team2]['total'] += 0 if team2_b < team1_b else 1 if team2_b == team1_b else 3\n",
    "    \n",
    "for team in d.keys():\n",
    "    print(f\"{team}:{d[team]['games']} {d[team]['won']} {d[team]['draw']} {d[team]['lost']} {d[team]['total']}\")"
   ]
  },
  {
   "cell_type": "markdown",
   "metadata": {},
   "source": [
    "Дополнительная\n",
    "В какой-то момент в Институте биоинформатики биологи перестали понимать, что говорят информатики: они говорили каким-то странным набором звуков.\n",
    "\n",
    "В какой-то момент один из биологов раскрыл секрет информатиков: они использовали при общении подстановочный шифр, т.е. заменяли каждый символ исходного сообщения на соответствующий ему другой символ. Биологи раздобыли ключ к шифру и теперь нуждаются в помощи:\n",
    "\n",
    "Напишите программу, которая умеет шифровать и расшифровывать шифр подстановки. Программа принимает на вход две строки одинаковой длины, на первой строке записаны символы исходного алфавита, на второй строке — символы конечного алфавита, после чего идёт строка, которую нужно зашифровать переданным ключом, и ещё одна строка, которую нужно расшифровать.\n",
    "\n",
    "Пусть, например, на вход программе передано:\n",
    "abcd\n",
    "*d%#\n",
    "abacabadaba\n",
    "#*%*d*%\n",
    "\n",
    "Это значит, что символ a исходного сообщения заменяется на символ * в шифре, b заменяется на d, c — на % и d — на #.\n",
    "Нужно зашифровать строку abacabadaba и расшифровать строку #*%*d*% с помощью этого шифра. Получаем следующие строки, которые и передаём на вывод программы:\n",
    "*d*%*d*#*d*\n",
    "dacabac\n",
    "\n",
    "﻿\n",
    "Sample Input 1:\n",
    "\n",
    "abcd\n",
    "*d%#\n",
    "abacabadaba\n",
    "#*%*d*%\n",
    "Sample Output 1:\n",
    "\n",
    "*d*%*d*#*d*\n",
    "dacabac\n",
    "Sample Input 2:\n",
    "\n",
    "dcba\n",
    "badc\n",
    "dcba\n",
    "badc\n",
    "Sample Output 2:\n",
    "\n",
    "badc\n",
    "dcba"
   ]
  },
  {
   "cell_type": "code",
   "execution_count": 13,
   "metadata": {},
   "outputs": [
    {
     "name": "stdout",
     "output_type": "stream",
     "text": [
      "abcd\n",
      "*d%#\n",
      "abacabadaba\n",
      "#*%*d*%\n",
      "*d*%*d*#*d*\n",
      "dacabac\n"
     ]
    }
   ],
   "source": [
    "# a,b,c,d=input(),input(),input(),input()\n",
    "# print(''.join(b[a.index(i)] for i in c))\n",
    "# print(''.join(a[b.index(i)] for i in d))\n",
    "\n",
    "# source, dest = input(), input()\n",
    "# decoded = input()\n",
    "# encoded = input()\n",
    "# print(decoded.translate(str.maketrans(source, dest)))\n",
    "# print(encoded.translate(str.maketrans(dest, source)))\n",
    "\n",
    "x = list(input())\n",
    "y = list(input())\n",
    "\n",
    "raw_string = list(input())\n",
    "crypted_string = list(input())\n",
    "\n",
    "crypt_d = dict(zip(x, y))\n",
    "decrypt_d = dict(zip(y, x))\n",
    "\n",
    "print(''.join(map(lambda x: crypt_d[x], raw_string)))\n",
    "print(''.join(map(lambda x: decrypt_d[x], crypted_string)))"
   ]
  },
  {
   "cell_type": "code",
   "execution_count": null,
   "metadata": {},
   "outputs": [],
   "source": []
  }
 ],
 "metadata": {
  "kernelspec": {
   "display_name": "Python 3",
   "language": "python",
   "name": "python3"
  },
  "language_info": {
   "codemirror_mode": {
    "name": "ipython",
    "version": 3
   },
   "file_extension": ".py",
   "mimetype": "text/x-python",
   "name": "python",
   "nbconvert_exporter": "python",
   "pygments_lexer": "ipython3",
   "version": "3.7.0"
  }
 },
 "nbformat": 4,
 "nbformat_minor": 2
}
