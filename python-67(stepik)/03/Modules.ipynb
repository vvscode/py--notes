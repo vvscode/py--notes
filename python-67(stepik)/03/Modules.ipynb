{
 "cells": [
  {
   "cell_type": "markdown",
   "metadata": {},
   "source": [
    "Напишите программу, которая подключает модуль math и, используя значение числа π из этого модуля, находит для переданного ей на стандартный ввод радиуса круга периметр этого круга и выводит его на стандартный вывод.\n",
    "\n",
    "Sample Input:\n",
    "\n",
    "10.0\n",
    "Sample Output:\n",
    "\n",
    "62.83185307179586"
   ]
  },
  {
   "cell_type": "code",
   "execution_count": 3,
   "metadata": {},
   "outputs": [
    {
     "name": "stdout",
     "output_type": "stream",
     "text": [
      "10\n",
      "62.83185307179586\n"
     ]
    }
   ],
   "source": [
    "from math import pi\n",
    "\n",
    "r = float(input())\n",
    "print(2*r*pi)"
   ]
  },
  {
   "cell_type": "markdown",
   "metadata": {},
   "source": [
    "Напишите программу, которая запускается из консоли и печатает значения всех переданных аргументов на экран (имя скрипта выводить не нужно). Не изменяйте порядок аргументов при выводе.\n",
    "\n",
    "Для доступа к аргументам командной строки программы подключите модуль sys и используйте переменную argv из этого модуля.\n",
    "\n",
    "Пример работы программы:\n",
    "\n",
    "> python3 my_solution.py arg1 arg2\n",
    "arg1 arg2"
   ]
  },
  {
   "cell_type": "code",
   "execution_count": 7,
   "metadata": {},
   "outputs": [
    {
     "name": "stdout",
     "output_type": "stream",
     "text": [
      "-f /Users/vvs/Library/Jupyter/runtime/kernel-79a5f901-416f-4e45-b56a-88ded006544f.json\n"
     ]
    }
   ],
   "source": [
    "from sys import argv\n",
    "\n",
    "print(' '.join(argv[1:]))"
   ]
  },
  {
   "cell_type": "code",
   "execution_count": null,
   "metadata": {},
   "outputs": [],
   "source": []
  }
 ],
 "metadata": {
  "kernelspec": {
   "display_name": "Python 3",
   "language": "python",
   "name": "python3"
  },
  "language_info": {
   "codemirror_mode": {
    "name": "ipython",
    "version": 3
   },
   "file_extension": ".py",
   "mimetype": "text/x-python",
   "name": "python",
   "nbconvert_exporter": "python",
   "pygments_lexer": "ipython3",
   "version": "3.7.0"
  }
 },
 "nbformat": 4,
 "nbformat_minor": 2
}
