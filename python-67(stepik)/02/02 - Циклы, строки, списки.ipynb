{
 "cells": [
  {
   "cell_type": "markdown",
   "metadata": {},
   "source": [
    "Напишите программу, которая считывает с консоли числа (по одному в строке) до тех пор, пока сумма введённых чисел не будет равна 0 и сразу после этого выводит сумму квадратов всех считанных чисел.\n",
    "\n",
    "Гарантируется, что в какой-то момент сумма введённых чисел окажется равной 0, после этого считывание продолжать не нужно.\n",
    "\n",
    "В примере мы считываем числа 1, -3, 5, -6, -10, 13; в этот момент замечаем, что сумма этих чисел равна нулю и выводим сумму их квадратов, не обращая внимания на то, что остались ещё не прочитанные значения.﻿\n",
    "\n",
    "Sample Input:\n",
    "\n",
    "1\n",
    "-3\n",
    "5\n",
    "-6\n",
    "-10\n",
    "13\n",
    "4\n",
    "-8\n",
    "Sample Output:\n",
    "\n",
    "340"
   ]
  },
  {
   "cell_type": "code",
   "execution_count": 2,
   "metadata": {},
   "outputs": [
    {
     "name": "stdout",
     "output_type": "stream",
     "text": [
      "1\n",
      "2\n",
      "-3\n",
      "0\n"
     ]
    }
   ],
   "source": [
    "sum = 0\n",
    "sqr_sum = 0\n",
    "\n",
    "while True:\n",
    "    i = int(input())\n",
    "    sum = sum + i\n",
    "    sqr_sum = sqr_sum + i**2\n",
    "    if sum == 0:\n",
    "        break\n",
    "\n",
    "print(sqr_sum)"
   ]
  },
  {
   "cell_type": "markdown",
   "metadata": {},
   "source": [
    "Напишите программу, которая выводит часть последовательности 1 2 2 3 3 3 4 4 4 4 5 5 5 5 5 ... (число повторяется столько раз, чему равно). На вход программе передаётся неотрицательное целое число n — столько элементов последовательности должна отобразить программа. На выходе ожидается последовательность чисел, записанных через пробел в одну строку.\n",
    "\n",
    "Например, если n = 7, то программа должна вывести 1 2 2 3 3 3 4.\n",
    "\n",
    "Sample Input:\n",
    "\n",
    "7\n",
    "Sample Output:\n",
    "\n",
    "1 2 2 3 3 3 4"
   ]
  },
  {
   "cell_type": "code",
   "execution_count": 19,
   "metadata": {},
   "outputs": [
    {
     "name": "stdout",
     "output_type": "stream",
     "text": [
      "7\n",
      "1 2 2 3 3 3 4\n"
     ]
    }
   ],
   "source": [
    "n = int(input())\n",
    "n_list = []\n",
    "for i in range(1, n + 1):\n",
    "    n_list = n_list + [i] * i\n",
    "    \n",
    "print(\" \".join(map(str, n_list[:n])))"
   ]
  },
  {
   "cell_type": "markdown",
   "metadata": {},
   "source": [
    "Напишите программу, которая считывает список чисел lst из первой строки и число x из второй строки, которая выводит все позиции, на которых встречается число x в переданном списке lst.\n",
    "\n",
    "Позиции нумеруются с нуля, если число x не встречается в списке, вывести строку \"Отсутствует\" (без кавычек, с большой буквы).\n",
    "\n",
    "Позиции должны быть выведены в одну строку, по возрастанию абсолютного значения.\n",
    "\n",
    "Sample Input 1:\n",
    "\n",
    "5 8 2 7 8 8 2 4\n",
    "8\n",
    "Sample Output 1:\n",
    "\n",
    "1 4 5\n",
    "Sample Input 2:\n",
    "\n",
    "5 8 2 7 8 8 2 4\n",
    "10\n",
    "Sample Output 2:\n",
    "\n",
    "Отсутствует"
   ]
  },
  {
   "cell_type": "code",
   "execution_count": null,
   "metadata": {},
   "outputs": [],
   "source": [
    "n_list = input().split()\n",
    "num = input()\n",
    "positions = []\n",
    "\n",
    "for idx, val in enumerate(n_list):\n",
    "    if val == num:\n",
    "        positions = positions + [idx]\n",
    "\n",
    "print(\" \".join(map(str, positions)) if len(positions) > 0 else \"Отсутствует\")"
   ]
  },
  {
   "cell_type": "markdown",
   "metadata": {},
   "source": [
    "Напишите программу, на вход которой подаётся прямоугольная матрица в виде последовательности строк, заканчивающихся строкой, содержащей только строку \"end\" (без кавычек)\n",
    "\n",
    "Программа должна вывести матрицу того же размера, у которой каждый элемент в позиции i, j равен сумме элементов первой матрицы на позициях (i-1, j), (i+1, j), (i, j-1), (i, j+1). У крайних символов соседний элемент находится с противоположной стороны матрицы.\n",
    "\n",
    "В случае одной строки/столбца элемент сам себе является соседом по соответствующему направлению.\n",
    "\n",
    "Sample Input 1:\n",
    "\n",
    "9 5 3\n",
    "0 7 -1\n",
    "-5 2 9\n",
    "end\n",
    "Sample Output 1:\n",
    "\n",
    "3 21 22\n",
    "10 6 19\n",
    "20 16 -1\n",
    "Sample Input 2:\n",
    "\n",
    "1\n",
    "end\n",
    "Sample Output 2:\n",
    "\n",
    "4"
   ]
  },
  {
   "cell_type": "code",
   "execution_count": 6,
   "metadata": {},
   "outputs": [
    {
     "name": "stdout",
     "output_type": "stream",
     "text": [
      "1 2\n",
      "2 3\n",
      "end\n",
      "8 8\n",
      "8 8\n"
     ]
    }
   ],
   "source": [
    "matrix = []\n",
    "\n",
    "def get_value(i, j, matrix):\n",
    "    a = matrix[i - 1][j]\n",
    "    b = matrix[i + 1][j] if i + 1 < len(matrix) else matrix[0][j]\n",
    "    c = matrix[i][j - 1]\n",
    "    d = matrix[i][j + 1] if j + 1 < len(matrix[i]) else matrix[i][0]\n",
    "    return a + b + c + d\n",
    "\n",
    "while True:\n",
    "    line = input()\n",
    "    if(line == 'end'):\n",
    "        break\n",
    "    matrix.append(list(map(int, line.split())))\n",
    "\n",
    "modified_matrix = []\n",
    "\n",
    "for i, row in enumerate(matrix):\n",
    "    modified_matrix.append([])\n",
    "    for j, cell in enumerate(row):\n",
    "        modified_matrix[i].append(get_value(i, j, matrix))\n",
    "\n",
    "print(\"\\n\".join(map(lambda row: \" \".join(map(str, row)), modified_matrix)))"
   ]
  },
  {
   "cell_type": "markdown",
   "metadata": {},
   "source": [
    "Выведите таблицу размером n×n, заполненную числами от 1 до n2 по спирали, выходящей из левого верхнего угла и закрученной по часовой стрелке, как показано в примере (здесь n=5):\n",
    "\n",
    "\n",
    "﻿\n",
    "Sample Input:\n",
    "\n",
    "5\n",
    "Sample Output:\n",
    "\n",
    "1 2 3 4 5\n",
    "16 17 18 19 6\n",
    "15 24 25 20 7\n",
    "14 23 22 21 8\n",
    "13 12 11 10 9"
   ]
  },
  {
   "cell_type": "code",
   "execution_count": 41,
   "metadata": {},
   "outputs": [
    {
     "name": "stdout",
     "output_type": "stream",
     "text": [
      "1\n",
      "1\n"
     ]
    }
   ],
   "source": [
    "n = int(input())\n",
    "\n",
    "matrix = [] # create empty matrix\n",
    "for i in range(0, n):\n",
    "    matrix.append([])\n",
    "    for j in range(0, n):\n",
    "        matrix[i].append(0)\n",
    "\n",
    "left = 0\n",
    "right = n - 1\n",
    "top = 0\n",
    "bottom = n - 1\n",
    "i = 1\n",
    "x = 0\n",
    "y = 0\n",
    "dx = 1\n",
    "dy = 0\n",
    "\n",
    "while i <= n**2:\n",
    "#     print(f\"left:{left} right:{right} top:{top} bottom:{bottom}\")\n",
    "#     print(f\"x:{x} dx:{dx} y:{y} dy:{dy} i:{i}\")\n",
    "\n",
    "    matrix[y][x] = i\n",
    "    x = x + dx\n",
    "    y = y + dy\n",
    "    i = i + 1\n",
    "    \n",
    "    if x == right and y == top and dx == 1:\n",
    "        top = top + 1\n",
    "        dx = 0\n",
    "        dy = 1\n",
    "    elif y == bottom and x == right and dy == 1:\n",
    "        right = right - 1\n",
    "        dx = -1\n",
    "        dy = 0\n",
    "    elif x == left and y == bottom and dx == -1:\n",
    "        bottom = bottom - 1\n",
    "        dx = 0\n",
    "        dy = -1\n",
    "    elif x == left and y == top and dy == -1:\n",
    "        left = left + 1\n",
    "        dx = 1\n",
    "        dy = 0\n",
    "        \n",
    "print(\"\\n\".join(map(lambda row: \" \".join(map(str, row)), matrix)))"
   ]
  },
  {
   "cell_type": "code",
   "execution_count": null,
   "metadata": {},
   "outputs": [],
   "source": []
  },
  {
   "cell_type": "code",
   "execution_count": null,
   "metadata": {},
   "outputs": [],
   "source": []
  }
 ],
 "metadata": {
  "kernelspec": {
   "display_name": "Python 3",
   "language": "python",
   "name": "python3"
  },
  "language_info": {
   "codemirror_mode": {
    "name": "ipython",
    "version": 3
   },
   "file_extension": ".py",
   "mimetype": "text/x-python",
   "name": "python",
   "nbconvert_exporter": "python",
   "pygments_lexer": "ipython3",
   "version": "3.7.0"
  }
 },
 "nbformat": 4,
 "nbformat_minor": 2
}
