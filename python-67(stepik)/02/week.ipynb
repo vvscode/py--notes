{
 "cells": [
  {
   "cell_type": "markdown",
   "metadata": {},
   "source": [
    "Когда Павел учился в школе, он запоминал таблицу умножения прямоугольными блоками. Для тренировок ему бы очень пригодилась программа, которая показывала бы блок таблицы умножения.\n",
    "\n",
    "Напишите программу, на вход которой даются четыре числа a, b, c и d, каждое в своей строке. Программа должна вывести фрагмент таблицы умножения для всех чисел отрезка [a;b] на все числа отрезка [c;d].\n",
    "\n",
    "Числа a, b, c и d являются натуральными и не превосходят 10, a≤b, c≤d.\n",
    "\n",
    "Следуйте формату вывода из примера, для разделения элементов внутри строки используйте '\\t' — символ табуляции. Заметьте, что левым столбцом и верхней строкой выводятся сами числа из заданных отрезков — заголовочные столбец и строка таблицы.﻿\n",
    "\n",
    "Sample Input 1:\n",
    "\n",
    "7\n",
    "10\n",
    "5\n",
    "6\n",
    "Sample Output 1:\n",
    "\n",
    "\t5\t6\n",
    "7\t35\t42\n",
    "8\t40\t48\n",
    "9\t45\t54\n",
    "10\t50\t60\n",
    "Sample Input 2:\n",
    "\n",
    "5\n",
    "5\n",
    "6\n",
    "6\n",
    "Sample Output 2:\n",
    "\n",
    "\t6\n",
    "5\t30\n",
    "Sample Input 3:\n",
    "\n",
    "1\n",
    "3\n",
    "2\n",
    "4\n",
    "Sample Output 3:\n",
    "\n",
    "\t2\t3\t4\n",
    "1\t2\t3\t4\n",
    "2\t4\t6\t8\n",
    "3\t6\t9\t12"
   ]
  },
  {
   "cell_type": "code",
   "execution_count": 7,
   "metadata": {},
   "outputs": [
    {
     "name": "stdout",
     "output_type": "stream",
     "text": [
      "1\n",
      "3\n",
      "2\n",
      "4\n",
      " \t2\t3\t4\n",
      "1\t2\t3\t4\n",
      "2\t4\t6\t8\n",
      "3\t6\t9\t12\n"
     ]
    }
   ],
   "source": [
    "a, b, c, d = map(int, [input(), input(), input(), input()])\n",
    "\n",
    "print(\" \\t\" + \"\\t\".join(map(str, range(c, d + 1))))\n",
    "\n",
    "for i in range(a, b + 1):\n",
    "        print(str(i) + \"\\t\" + \"\\t\".join(map(str, map(lambda x: x*i, range(c, d + 1)))))"
   ]
  },
  {
   "cell_type": "markdown",
   "metadata": {},
   "source": [
    "Напишите программу, которая считывает с клавиатуры два числа a и b, считает и выводит на консоль среднее арифметическое всех чисел из отрезка [a;b], которые делятся на 3.\n",
    "\n",
    "В приведенном ниже примере среднее арифметическое считается для чисел на отрезке [−5;12]. Всего чисел, делящихся на 3, на этом отрезке 6: −3,0,3,6,9,12. Их среднее арифметическое равно 4.5\n",
    "\n",
    "На вход программе подаются интервалы, внутри которых всегда есть хотя бы одно число, которое делится на 3.﻿\n",
    "\n",
    "Sample Input:\n",
    "\n",
    "-5\n",
    "12\n",
    "Sample Output:\n",
    "\n",
    "4.5"
   ]
  },
  {
   "cell_type": "code",
   "execution_count": 15,
   "metadata": {},
   "outputs": [
    {
     "name": "stdout",
     "output_type": "stream",
     "text": [
      "-5\n",
      "12\n",
      "4.5\n"
     ]
    }
   ],
   "source": [
    "# x = [x for x in range(int(input()),int(input()) + 1) if x % 3 == 0]\n",
    "# print(sum(x)/len(x))   \n",
    "\n",
    "a, b = map(int, [input(), input()])\n",
    "data = list(filter(lambda x: x % 3 == 0, range(a, b + 1)))\n",
    "x = sum(data)/len(data)\n",
    "print(x)"
   ]
  },
  {
   "cell_type": "markdown",
   "metadata": {},
   "source": [
    "GC-состав является важной характеристикой геномных последовательностей и определяется как процентное соотношение суммы всех гуанинов и цитозинов к общему числу нуклеиновых оснований в геномной последовательности. \n",
    "\n",
    "Напишите программу, которая вычисляет процентное содержание символов G (гуанин) и C (цитозин) в введенной строке (программа не должна зависеть от регистра вводимых символов).\n",
    "\n",
    "Например, в строке \"acggtgttat\" процентное содержание символов G и C равно 410⋅100=40.0, где 4 -- это количество символов G и C,  а 10 -- это длина строки."
   ]
  },
  {
   "cell_type": "code",
   "execution_count": 16,
   "metadata": {},
   "outputs": [
    {
     "name": "stdout",
     "output_type": "stream",
     "text": [
      "acggtgttat\n",
      "40.0\n"
     ]
    }
   ],
   "source": [
    "s = input().lower()\n",
    "print(100 * (s.count('c') + s.count('g')) / len(s))"
   ]
  },
  {
   "cell_type": "markdown",
   "metadata": {},
   "source": [
    "Узнав, что ДНК не является случайной строкой, только что поступившие в Институт биоинформатики студенты группы информатиков предложили использовать алгоритм сжатия, который сжимает повторяющиеся символы в строке.\n",
    "\n",
    "Кодирование осуществляется следующим образом:\n",
    "s = 'aaaabbсaa' преобразуется в 'a4b2с1a2', то есть группы одинаковых символов исходной строки заменяются на этот символ и количество его повторений в этой позиции строки.\n",
    "\n",
    "Напишите программу, которая считывает строку, кодирует её предложенным алгоритмом и выводит закодированную последовательность на стандартный вывод. Кодирование должно учитывать регистр символов.\n",
    "\n",
    "Sample Input 1:\n",
    "\n",
    "aaaabbcaa\n",
    "Sample Output 1:\n",
    "\n",
    "a4b2c1a2\n",
    "Sample Input 2:\n",
    "\n",
    "abc\n",
    "Sample Output 2:\n",
    "\n",
    "a1b1c1"
   ]
  },
  {
   "cell_type": "code",
   "execution_count": 19,
   "metadata": {},
   "outputs": [
    {
     "name": "stdout",
     "output_type": "stream",
     "text": [
      "aaaabbcaa\n",
      "a4b2c1a2\n"
     ]
    }
   ],
   "source": [
    "s = input()\n",
    "\n",
    "i = 0\n",
    "c = s[0]\n",
    "num = 0\n",
    "r = ''\n",
    "\n",
    "while i < len(s):\n",
    "    if(c != s[i]):\n",
    "        r += c + str(num)\n",
    "        c = s[i]\n",
    "        num = 0\n",
    "    i += 1\n",
    "    num += 1\n",
    "\n",
    "r += c + str(num)\n",
    "print(r)\n",
    "        \n",
    "\n"
   ]
  },
  {
   "cell_type": "code",
   "execution_count": null,
   "metadata": {},
   "outputs": [],
   "source": [
    "Напишите программу, на вход которой подается одна строка с целыми числами. Программа должна вывести сумму этих чисел.\n",
    "\n",
    "Используйте метод split строки. ﻿﻿\n",
    "\n",
    "Sample Input:\n",
    "\n",
    "4 -1 9 3\n",
    "Sample Output:\n",
    "\n",
    "15"
   ]
  },
  {
   "cell_type": "code",
   "execution_count": null,
   "metadata": {},
   "outputs": [],
   "source": [
    "print(sum(map(int, input().split(' '))))"
   ]
  }
 ],
 "metadata": {
  "kernelspec": {
   "display_name": "Python 3",
   "language": "python",
   "name": "python3"
  },
  "language_info": {
   "codemirror_mode": {
    "name": "ipython",
    "version": 3
   },
   "file_extension": ".py",
   "mimetype": "text/x-python",
   "name": "python",
   "nbconvert_exporter": "python",
   "pygments_lexer": "ipython3",
   "version": "3.7.0"
  }
 },
 "nbformat": 4,
 "nbformat_minor": 2
}
